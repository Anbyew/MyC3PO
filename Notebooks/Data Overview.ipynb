{
 "cells": [
  {
   "cell_type": "code",
   "execution_count": 26,
   "metadata": {},
   "outputs": [],
   "source": [
    "import numpy as np\n",
    "import pandas as pd\n",
    "import matplotlib.pyplot as plt\n",
    "import seaborn as sns"
   ]
  },
  {
   "cell_type": "markdown",
   "metadata": {},
   "source": [
    "Number of sequences in the R2C2_clean.fasta"
   ]
  },
  {
   "cell_type": "code",
   "execution_count": 4,
   "metadata": {},
   "outputs": [
    {
     "name": "stdout",
     "output_type": "stream",
     "text": [
      "   49748 R2C2_clean.fasta\n",
      "24874.0 pieces of data\n"
     ]
    }
   ],
   "source": [
    "!wc -l R2C2_clean.fasta \n",
    "print(str(49748/2) + \" pieces of data\")"
   ]
  },
  {
   "cell_type": "code",
   "execution_count": null,
   "metadata": {},
   "outputs": [],
   "source": []
  },
  {
   "cell_type": "markdown",
   "metadata": {},
   "source": [
    "Read and Analyze R2C2_clean.fasta"
   ]
  },
  {
   "cell_type": "code",
   "execution_count": 9,
   "metadata": {},
   "outputs": [],
   "source": [
    "bb = pd.read_csv('R2C2_clean.fasta', header=None)"
   ]
  },
  {
   "cell_type": "code",
   "execution_count": 10,
   "metadata": {},
   "outputs": [],
   "source": [
    "bb = pd.DataFrame(list(zip(bb.iloc[::2].values.reshape(-1), bb.iloc[1::2].values.reshape(-1))), \n",
    "               columns =['Name', 'Sequence']) #24874\n",
    "bb['Name'] = bb['Name'].str[1:]"
   ]
  },
  {
   "cell_type": "code",
   "execution_count": 11,
   "metadata": {},
   "outputs": [
    {
     "name": "stdout",
     "output_type": "stream",
     "text": [
      "(24874, 2)\n"
     ]
    },
    {
     "data": {
      "text/html": [
       "<div>\n",
       "<style scoped>\n",
       "    .dataframe tbody tr th:only-of-type {\n",
       "        vertical-align: middle;\n",
       "    }\n",
       "\n",
       "    .dataframe tbody tr th {\n",
       "        vertical-align: top;\n",
       "    }\n",
       "\n",
       "    .dataframe thead th {\n",
       "        text-align: right;\n",
       "    }\n",
       "</style>\n",
       "<table border=\"1\" class=\"dataframe\">\n",
       "  <thead>\n",
       "    <tr style=\"text-align: right;\">\n",
       "      <th></th>\n",
       "      <th>Name</th>\n",
       "      <th>Sequence</th>\n",
       "    </tr>\n",
       "  </thead>\n",
       "  <tbody>\n",
       "    <tr>\n",
       "      <th>0</th>\n",
       "      <td>db68828-7ad5-47c2-b2de-edfee3141c16_15.91_1328...</td>\n",
       "      <td>GCTCTTCCGATCTGACGCAGGGCAAAAGACCCAGCATTTTCCTGTC...</td>\n",
       "    </tr>\n",
       "    <tr>\n",
       "      <th>1</th>\n",
       "      <td>03cf611-28ca-4bbd-93a4-3095e832cce0_14.93_1894...</td>\n",
       "      <td>ATGCTCTTCCGATCTGACGCAGGGCAAAGACCAGCATTTTCCTGTC...</td>\n",
       "    </tr>\n",
       "    <tr>\n",
       "      <th>2</th>\n",
       "      <td>954efb3-70f9-46ba-88fb-e58b75b21cf0_13.24_1954...</td>\n",
       "      <td>ATGCTCTTCCGATCTGACGCAGGGCAAAGACCAGCCTGACCAACAT...</td>\n",
       "    </tr>\n",
       "    <tr>\n",
       "      <th>3</th>\n",
       "      <td>b0f9dc4-aaf3-4cc7-a3cf-e15b794ba0bf_15.72_1394...</td>\n",
       "      <td>TGCTTCTTCCGATCTGACACAGGGCAAAGACCAGCATTTTCCTGTC...</td>\n",
       "    </tr>\n",
       "    <tr>\n",
       "      <th>4</th>\n",
       "      <td>dfff674-befc-49ef-9f81-9063984c1571_14.23_1740...</td>\n",
       "      <td>ATGCTCTTCCGATCTGACACAGGGCAAAGACCCCAATGCCCAAAGA...</td>\n",
       "    </tr>\n",
       "  </tbody>\n",
       "</table>\n",
       "</div>"
      ],
      "text/plain": [
       "                                                Name  \\\n",
       "0  db68828-7ad5-47c2-b2de-edfee3141c16_15.91_1328...   \n",
       "1  03cf611-28ca-4bbd-93a4-3095e832cce0_14.93_1894...   \n",
       "2  954efb3-70f9-46ba-88fb-e58b75b21cf0_13.24_1954...   \n",
       "3  b0f9dc4-aaf3-4cc7-a3cf-e15b794ba0bf_15.72_1394...   \n",
       "4  dfff674-befc-49ef-9f81-9063984c1571_14.23_1740...   \n",
       "\n",
       "                                            Sequence  \n",
       "0  GCTCTTCCGATCTGACGCAGGGCAAAAGACCCAGCATTTTCCTGTC...  \n",
       "1  ATGCTCTTCCGATCTGACGCAGGGCAAAGACCAGCATTTTCCTGTC...  \n",
       "2  ATGCTCTTCCGATCTGACGCAGGGCAAAGACCAGCCTGACCAACAT...  \n",
       "3  TGCTTCTTCCGATCTGACACAGGGCAAAGACCAGCATTTTCCTGTC...  \n",
       "4  ATGCTCTTCCGATCTGACACAGGGCAAAGACCCCAATGCCCAAAGA...  "
      ]
     },
     "execution_count": 11,
     "metadata": {},
     "output_type": "execute_result"
    }
   ],
   "source": [
    "print(bb.shape)\n",
    "bb.head()"
   ]
  },
  {
   "cell_type": "code",
   "execution_count": 23,
   "metadata": {},
   "outputs": [],
   "source": [
    "bb['name'], bb['score'],bb['oriLen'], bb['repeats'], bb['subLen'], bb['consLen'] = bb['Name'].str.split('_', 5).str"
   ]
  },
  {
   "cell_type": "code",
   "execution_count": 24,
   "metadata": {},
   "outputs": [],
   "source": [
    "bb = bb.drop(columns=['Name'])\n",
    "bb[['oriLen', 'repeats', 'subLen', 'consLen']] = bb[['oriLen', 'repeats', 'subLen', 'consLen']].astype(int)\n",
    "bb[['score']] = bb[['score']].astype(float)"
   ]
  },
  {
   "cell_type": "code",
   "execution_count": 25,
   "metadata": {},
   "outputs": [
    {
     "data": {
      "text/html": [
       "<div>\n",
       "<style scoped>\n",
       "    .dataframe tbody tr th:only-of-type {\n",
       "        vertical-align: middle;\n",
       "    }\n",
       "\n",
       "    .dataframe tbody tr th {\n",
       "        vertical-align: top;\n",
       "    }\n",
       "\n",
       "    .dataframe thead th {\n",
       "        text-align: right;\n",
       "    }\n",
       "</style>\n",
       "<table border=\"1\" class=\"dataframe\">\n",
       "  <thead>\n",
       "    <tr style=\"text-align: right;\">\n",
       "      <th></th>\n",
       "      <th>Sequence</th>\n",
       "      <th>score</th>\n",
       "      <th>oriLen</th>\n",
       "      <th>repeats</th>\n",
       "      <th>subLen</th>\n",
       "      <th>consLen</th>\n",
       "      <th>name</th>\n",
       "    </tr>\n",
       "  </thead>\n",
       "  <tbody>\n",
       "    <tr>\n",
       "      <th>0</th>\n",
       "      <td>GCTCTTCCGATCTGACGCAGGGCAAAAGACCCAGCATTTTCCTGTC...</td>\n",
       "      <td>15.91</td>\n",
       "      <td>1328</td>\n",
       "      <td>1</td>\n",
       "      <td>662</td>\n",
       "      <td>284</td>\n",
       "      <td>db68828-7ad5-47c2-b2de-edfee3141c16</td>\n",
       "    </tr>\n",
       "    <tr>\n",
       "      <th>1</th>\n",
       "      <td>ATGCTCTTCCGATCTGACGCAGGGCAAAGACCAGCATTTTCCTGTC...</td>\n",
       "      <td>14.93</td>\n",
       "      <td>1894</td>\n",
       "      <td>1</td>\n",
       "      <td>733</td>\n",
       "      <td>337</td>\n",
       "      <td>03cf611-28ca-4bbd-93a4-3095e832cce0</td>\n",
       "    </tr>\n",
       "    <tr>\n",
       "      <th>2</th>\n",
       "      <td>ATGCTCTTCCGATCTGACGCAGGGCAAAGACCAGCCTGACCAACAT...</td>\n",
       "      <td>13.24</td>\n",
       "      <td>1954</td>\n",
       "      <td>1</td>\n",
       "      <td>624</td>\n",
       "      <td>230</td>\n",
       "      <td>954efb3-70f9-46ba-88fb-e58b75b21cf0</td>\n",
       "    </tr>\n",
       "    <tr>\n",
       "      <th>3</th>\n",
       "      <td>TGCTTCTTCCGATCTGACACAGGGCAAAGACCAGCATTTTCCTGTC...</td>\n",
       "      <td>15.72</td>\n",
       "      <td>1394</td>\n",
       "      <td>1</td>\n",
       "      <td>734</td>\n",
       "      <td>343</td>\n",
       "      <td>b0f9dc4-aaf3-4cc7-a3cf-e15b794ba0bf</td>\n",
       "    </tr>\n",
       "    <tr>\n",
       "      <th>4</th>\n",
       "      <td>ATGCTCTTCCGATCTGACACAGGGCAAAGACCCCAATGCCCAAAGA...</td>\n",
       "      <td>14.23</td>\n",
       "      <td>1740</td>\n",
       "      <td>1</td>\n",
       "      <td>662</td>\n",
       "      <td>281</td>\n",
       "      <td>dfff674-befc-49ef-9f81-9063984c1571</td>\n",
       "    </tr>\n",
       "  </tbody>\n",
       "</table>\n",
       "</div>"
      ],
      "text/plain": [
       "                                            Sequence  score  oriLen  repeats  \\\n",
       "0  GCTCTTCCGATCTGACGCAGGGCAAAAGACCCAGCATTTTCCTGTC...  15.91    1328        1   \n",
       "1  ATGCTCTTCCGATCTGACGCAGGGCAAAGACCAGCATTTTCCTGTC...  14.93    1894        1   \n",
       "2  ATGCTCTTCCGATCTGACGCAGGGCAAAGACCAGCCTGACCAACAT...  13.24    1954        1   \n",
       "3  TGCTTCTTCCGATCTGACACAGGGCAAAGACCAGCATTTTCCTGTC...  15.72    1394        1   \n",
       "4  ATGCTCTTCCGATCTGACACAGGGCAAAGACCCCAATGCCCAAAGA...  14.23    1740        1   \n",
       "\n",
       "   subLen  consLen                                 name  \n",
       "0     662      284  db68828-7ad5-47c2-b2de-edfee3141c16  \n",
       "1     733      337  03cf611-28ca-4bbd-93a4-3095e832cce0  \n",
       "2     624      230  954efb3-70f9-46ba-88fb-e58b75b21cf0  \n",
       "3     734      343  b0f9dc4-aaf3-4cc7-a3cf-e15b794ba0bf  \n",
       "4     662      281  dfff674-befc-49ef-9f81-9063984c1571  "
      ]
     },
     "execution_count": 25,
     "metadata": {},
     "output_type": "execute_result"
    }
   ],
   "source": [
    "bb.head()"
   ]
  },
  {
   "cell_type": "code",
   "execution_count": null,
   "metadata": {},
   "outputs": [],
   "source": []
  },
  {
   "cell_type": "markdown",
   "metadata": {},
   "source": [
    "Plotting the distributions...\n",
    "oriLen: the origional length of the sequence\n",
    "subLen: the length of subreads (chopped off at splint, include splints, primers, and barcodes)\n",
    "consLen: the length of \"Sequence\" (no splint or primers, has barcodes)"
   ]
  },
  {
   "cell_type": "code",
   "execution_count": null,
   "metadata": {},
   "outputs": [],
   "source": []
  },
  {
   "cell_type": "code",
   "execution_count": 29,
   "metadata": {},
   "outputs": [
    {
     "name": "stderr",
     "output_type": "stream",
     "text": [
      "/anaconda3/lib/python3.6/site-packages/scipy/stats/stats.py:1706: FutureWarning: Using a non-tuple sequence for multidimensional indexing is deprecated; use `arr[tuple(seq)]` instead of `arr[seq]`. In the future this will be interpreted as an array index, `arr[np.array(seq)]`, which will result either in an error or a different result.\n",
      "  return np.add.reduce(sorted[indexer] * weights, axis=axis) / sumval\n",
      "/anaconda3/lib/python3.6/site-packages/matplotlib/axes/_axes.py:6521: MatplotlibDeprecationWarning: \n",
      "The 'normed' kwarg was deprecated in Matplotlib 2.1 and will be removed in 3.1. Use 'density' instead.\n",
      "  alternative=\"'density'\", removal=\"3.1\")\n"
     ]
    },
    {
     "data": {
      "text/plain": [
       "<matplotlib.axes._subplots.AxesSubplot at 0x11cde10f0>"
      ]
     },
     "execution_count": 29,
     "metadata": {},
     "output_type": "execute_result"
    },
    {
     "data": {
      "image/png": "[encoded data removed]",
      "text/plain": [
       "<Figure size 432x288 with 1 Axes>"
      ]
     },
     "metadata": {},
     "output_type": "display_data"
    }
   ],
   "source": [
    "plt.title('Distribution of Origional Length')\n",
    "sns.distplot(bb['oriLen'])"
   ]
  },
  {
   "cell_type": "code",
   "execution_count": 30,
   "metadata": {},
   "outputs": [
    {
     "name": "stderr",
     "output_type": "stream",
     "text": [
      "/anaconda3/lib/python3.6/site-packages/scipy/stats/stats.py:1706: FutureWarning: Using a non-tuple sequence for multidimensional indexing is deprecated; use `arr[tuple(seq)]` instead of `arr[seq]`. In the future this will be interpreted as an array index, `arr[np.array(seq)]`, which will result either in an error or a different result.\n",
      "  return np.add.reduce(sorted[indexer] * weights, axis=axis) / sumval\n",
      "/anaconda3/lib/python3.6/site-packages/matplotlib/axes/_axes.py:6521: MatplotlibDeprecationWarning: \n",
      "The 'normed' kwarg was deprecated in Matplotlib 2.1 and will be removed in 3.1. Use 'density' instead.\n",
      "  alternative=\"'density'\", removal=\"3.1\")\n"
     ]
    },
    {
     "data": {
      "text/plain": [
       "<matplotlib.axes._subplots.AxesSubplot at 0x11d3a7be0>"
      ]
     },
     "execution_count": 30,
     "metadata": {},
     "output_type": "execute_result"
    },
    {
     "data": {
      "image/png": "[encoded data removed]",
      "text/plain": [
       "<Figure size 432x288 with 1 Axes>"
      ]
     },
     "metadata": {},
     "output_type": "display_data"
    }
   ],
   "source": [
    "plt.title('Distribution of Subreads Length')\n",
    "sns.distplot(bb['subLen'])"
   ]
  },
  {
   "cell_type": "code",
   "execution_count": 31,
   "metadata": {},
   "outputs": [
    {
     "name": "stderr",
     "output_type": "stream",
     "text": [
      "/anaconda3/lib/python3.6/site-packages/scipy/stats/stats.py:1706: FutureWarning: Using a non-tuple sequence for multidimensional indexing is deprecated; use `arr[tuple(seq)]` instead of `arr[seq]`. In the future this will be interpreted as an array index, `arr[np.array(seq)]`, which will result either in an error or a different result.\n",
      "  return np.add.reduce(sorted[indexer] * weights, axis=axis) / sumval\n",
      "/anaconda3/lib/python3.6/site-packages/matplotlib/axes/_axes.py:6521: MatplotlibDeprecationWarning: \n",
      "The 'normed' kwarg was deprecated in Matplotlib 2.1 and will be removed in 3.1. Use 'density' instead.\n",
      "  alternative=\"'density'\", removal=\"3.1\")\n"
     ]
    },
    {
     "data": {
      "text/plain": [
       "<matplotlib.axes._subplots.AxesSubplot at 0x119edddd8>"
      ]
     },
     "execution_count": 31,
     "metadata": {},
     "output_type": "execute_result"
    },
    {
     "data": {
      "image/png": "[encoded data removed]",
      "text/plain": [
       "<Figure size 432x288 with 1 Axes>"
      ]
     },
     "metadata": {},
     "output_type": "display_data"
    }
   ],
   "source": [
    "plt.title('Distribution of Consensus Reads Length')\n",
    "sns.distplot(bb['consLen'])"
   ]
  },
  {
   "cell_type": "code",
   "execution_count": 32,
   "metadata": {},
   "outputs": [
    {
     "name": "stderr",
     "output_type": "stream",
     "text": [
      "/anaconda3/lib/python3.6/site-packages/scipy/stats/stats.py:1706: FutureWarning: Using a non-tuple sequence for multidimensional indexing is deprecated; use `arr[tuple(seq)]` instead of `arr[seq]`. In the future this will be interpreted as an array index, `arr[np.array(seq)]`, which will result either in an error or a different result.\n",
      "  return np.add.reduce(sorted[indexer] * weights, axis=axis) / sumval\n",
      "/anaconda3/lib/python3.6/site-packages/matplotlib/axes/_axes.py:6521: MatplotlibDeprecationWarning: \n",
      "The 'normed' kwarg was deprecated in Matplotlib 2.1 and will be removed in 3.1. Use 'density' instead.\n",
      "  alternative=\"'density'\", removal=\"3.1\")\n"
     ]
    },
    {
     "data": {
      "text/plain": [
       "<matplotlib.axes._subplots.AxesSubplot at 0x119d11ef0>"
      ]
     },
     "execution_count": 32,
     "metadata": {},
     "output_type": "execute_result"
    },
    {
     "data": {
      "image/png": "[encoded data removed]",
      "text/plain": [
       "<Figure size 432x288 with 1 Axes>"
      ]
     },
     "metadata": {},
     "output_type": "display_data"
    }
   ],
   "source": [
    "plt.title('Distribution of Number of Repeads')\n",
    "sns.distplot(bb['repeats']) # mode: repeat = 1"
   ]
  },
  {
   "cell_type": "code",
   "execution_count": 40,
   "metadata": {},
   "outputs": [
    {
     "name": "stderr",
     "output_type": "stream",
     "text": [
      "/anaconda3/lib/python3.6/site-packages/scipy/stats/stats.py:1706: FutureWarning: Using a non-tuple sequence for multidimensional indexing is deprecated; use `arr[tuple(seq)]` instead of `arr[seq]`. In the future this will be interpreted as an array index, `arr[np.array(seq)]`, which will result either in an error or a different result.\n",
      "  return np.add.reduce(sorted[indexer] * weights, axis=axis) / sumval\n",
      "/anaconda3/lib/python3.6/site-packages/matplotlib/axes/_axes.py:6521: MatplotlibDeprecationWarning: \n",
      "The 'normed' kwarg was deprecated in Matplotlib 2.1 and will be removed in 3.1. Use 'density' instead.\n",
      "  alternative=\"'density'\", removal=\"3.1\")\n"
     ]
    },
    {
     "data": {
      "text/plain": [
       "<matplotlib.axes._subplots.AxesSubplot at 0x1196f90f0>"
      ]
     },
     "execution_count": 40,
     "metadata": {},
     "output_type": "execute_result"
    },
    {
     "data": {
      "image/png": "[encoded data removed]",
      "text/plain": [
       "<Figure size 432x288 with 1 Axes>"
      ]
     },
     "metadata": {},
     "output_type": "display_data"
    }
   ],
   "source": [
    "plt.title('Distribution of Data Quality')\n",
    "sns.distplot(bb['score'])"
   ]
  },
  {
   "cell_type": "code",
   "execution_count": null,
   "metadata": {},
   "outputs": [],
   "source": []
  }
 ],
 "metadata": {
  "kernelspec": {
   "display_name": "Python 3",
   "language": "python",
   "name": "python3"
  },
  "language_info": {
   "codemirror_mode": {
    "name": "ipython",
    "version": 3
   },
   "file_extension": ".py",
   "mimetype": "text/x-python",
   "name": "python",
   "nbconvert_exporter": "python",
   "pygments_lexer": "ipython3",
   "version": "3.6.8"
  }
 },
 "nbformat": 4,
 "nbformat_minor": 2
}
