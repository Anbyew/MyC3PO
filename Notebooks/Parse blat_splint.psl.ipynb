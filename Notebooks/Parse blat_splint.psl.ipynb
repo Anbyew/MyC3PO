{
 "cells": [
  {
   "cell_type": "code",
   "execution_count": 2,
   "metadata": {},
   "outputs": [],
   "source": [
    "import numpy as np\n",
    "import pandas as pd\n",
    "import matplotlib.pyplot as plt"
   ]
  },
  {
   "cell_type": "code",
   "execution_count": 6,
   "metadata": {},
   "outputs": [
    {
     "name": "stderr",
     "output_type": "stream",
     "text": [
      "/anaconda3/lib/python3.6/site-packages/IPython/core/interactiveshell.py:2728: DtypeWarning: Columns (0,1,2,3,4,5,6,7,10,11,12,14,15,16,17) have mixed types. Specify dtype option on import or set low_memory=False.\n",
      "  interactivity=interactivity, compiler=compiler, result=result)\n"
     ]
    }
   ],
   "source": [
    "dd = pd.read_csv('blat_splint.psl', sep='\\t', header=0)"
   ]
  },
  {
   "cell_type": "code",
   "execution_count": 7,
   "metadata": {},
   "outputs": [],
   "source": [
    "dd = dd.rename(index=str, columns={'mis- ': 'mismatch', 'rep. ': 'repmatch', 'Q gap':\"Q gap count\", \"Q gap.1\":\"Q gap bases\",\n",
    "                             \"T gap\":\"T gap count\", \"T gap.1\":\"T gap bases\", \"Q        \":\"Q name\", \n",
    "                             \"Q   \":\"Q size\", \"Q    \":\"Q start\", \"Q  \":\"Q end\", \"T        \":\"T name\",\n",
    "                             \"T   \":\"T size\", \"T    \":\"T start\", \"T  \":\"T end\", \"block\":\"block count\",\n",
    "                             \"blockSizes \":\"blockSizes\", ' tStarts':'tStarts'})"
   ]
  },
  {
   "cell_type": "code",
   "execution_count": 8,
   "metadata": {},
   "outputs": [],
   "source": [
    "dd = dd.drop(dd.index[[0]])\n",
    "dd = dd.reset_index()\n",
    "dd[['index','match','mismatch','repmatch',\"N's\",'Q gap count','Q gap bases','T gap count','T gap bases','Q size',\n",
    "    'Q start','Q end','T size','T start','T end','block count']] = dd[['index','match','mismatch','repmatch',\"N's\",'Q gap count','Q gap bases','T gap count','T gap bases','Q size',\n",
    "    'Q start','Q end','T size','T start','T end','block count']].astype(int)"
   ]
  },
  {
   "cell_type": "code",
   "execution_count": 9,
   "metadata": {},
   "outputs": [
    {
     "name": "stdout",
     "output_type": "stream",
     "text": [
      "(277893, 22)\n"
     ]
    },
    {
     "data": {
      "text/html": [
       "<div>\n",
       "<style scoped>\n",
       "    .dataframe tbody tr th:only-of-type {\n",
       "        vertical-align: middle;\n",
       "    }\n",
       "\n",
       "    .dataframe tbody tr th {\n",
       "        vertical-align: top;\n",
       "    }\n",
       "\n",
       "    .dataframe thead th {\n",
       "        text-align: right;\n",
       "    }\n",
       "</style>\n",
       "<table border=\"1\" class=\"dataframe\">\n",
       "  <thead>\n",
       "    <tr style=\"text-align: right;\">\n",
       "      <th></th>\n",
       "      <th>index</th>\n",
       "      <th>match</th>\n",
       "      <th>mismatch</th>\n",
       "      <th>repmatch</th>\n",
       "      <th>N's</th>\n",
       "      <th>Q gap count</th>\n",
       "      <th>Q gap bases</th>\n",
       "      <th>T gap count</th>\n",
       "      <th>T gap bases</th>\n",
       "      <th>strand</th>\n",
       "      <th>...</th>\n",
       "      <th>Q start</th>\n",
       "      <th>Q end</th>\n",
       "      <th>T name</th>\n",
       "      <th>T size</th>\n",
       "      <th>T start</th>\n",
       "      <th>T end</th>\n",
       "      <th>block count</th>\n",
       "      <th>blockSizes</th>\n",
       "      <th>qStarts</th>\n",
       "      <th>tStarts</th>\n",
       "    </tr>\n",
       "  </thead>\n",
       "  <tbody>\n",
       "    <tr>\n",
       "      <th>0</th>\n",
       "      <td>1</td>\n",
       "      <td>135</td>\n",
       "      <td>1</td>\n",
       "      <td>0</td>\n",
       "      <td>0</td>\n",
       "      <td>1</td>\n",
       "      <td>5</td>\n",
       "      <td>2</td>\n",
       "      <td>8</td>\n",
       "      <td>+</td>\n",
       "      <td>...</td>\n",
       "      <td>0</td>\n",
       "      <td>141</td>\n",
       "      <td>Lambda_RC</td>\n",
       "      <td>284</td>\n",
       "      <td>140</td>\n",
       "      <td>284</td>\n",
       "      <td>3</td>\n",
       "      <td>17,73,46,</td>\n",
       "      <td>0,22,95,</td>\n",
       "      <td>140,164,238,</td>\n",
       "    </tr>\n",
       "    <tr>\n",
       "      <th>1</th>\n",
       "      <td>2</td>\n",
       "      <td>46</td>\n",
       "      <td>0</td>\n",
       "      <td>0</td>\n",
       "      <td>0</td>\n",
       "      <td>0</td>\n",
       "      <td>0</td>\n",
       "      <td>0</td>\n",
       "      <td>0</td>\n",
       "      <td>+</td>\n",
       "      <td>...</td>\n",
       "      <td>472</td>\n",
       "      <td>518</td>\n",
       "      <td>Lambda_RC</td>\n",
       "      <td>284</td>\n",
       "      <td>4</td>\n",
       "      <td>50</td>\n",
       "      <td>1</td>\n",
       "      <td>46,</td>\n",
       "      <td>472,</td>\n",
       "      <td>4,</td>\n",
       "    </tr>\n",
       "    <tr>\n",
       "      <th>2</th>\n",
       "      <td>3</td>\n",
       "      <td>135</td>\n",
       "      <td>1</td>\n",
       "      <td>0</td>\n",
       "      <td>0</td>\n",
       "      <td>1</td>\n",
       "      <td>5</td>\n",
       "      <td>2</td>\n",
       "      <td>8</td>\n",
       "      <td>-</td>\n",
       "      <td>...</td>\n",
       "      <td>0</td>\n",
       "      <td>141</td>\n",
       "      <td>Lambda</td>\n",
       "      <td>284</td>\n",
       "      <td>0</td>\n",
       "      <td>144</td>\n",
       "      <td>3</td>\n",
       "      <td>51,68,17,</td>\n",
       "      <td>474,525,598,</td>\n",
       "      <td>0,52,127,</td>\n",
       "    </tr>\n",
       "    <tr>\n",
       "      <th>3</th>\n",
       "      <td>4</td>\n",
       "      <td>46</td>\n",
       "      <td>0</td>\n",
       "      <td>0</td>\n",
       "      <td>0</td>\n",
       "      <td>0</td>\n",
       "      <td>0</td>\n",
       "      <td>0</td>\n",
       "      <td>0</td>\n",
       "      <td>-</td>\n",
       "      <td>...</td>\n",
       "      <td>472</td>\n",
       "      <td>518</td>\n",
       "      <td>Lambda</td>\n",
       "      <td>284</td>\n",
       "      <td>234</td>\n",
       "      <td>280</td>\n",
       "      <td>1</td>\n",
       "      <td>46,</td>\n",
       "      <td>97,</td>\n",
       "      <td>234,</td>\n",
       "    </tr>\n",
       "    <tr>\n",
       "      <th>4</th>\n",
       "      <td>5</td>\n",
       "      <td>133</td>\n",
       "      <td>1</td>\n",
       "      <td>0</td>\n",
       "      <td>0</td>\n",
       "      <td>2</td>\n",
       "      <td>2</td>\n",
       "      <td>1</td>\n",
       "      <td>1</td>\n",
       "      <td>+</td>\n",
       "      <td>...</td>\n",
       "      <td>0</td>\n",
       "      <td>136</td>\n",
       "      <td>Lambda_RC</td>\n",
       "      <td>284</td>\n",
       "      <td>149</td>\n",
       "      <td>284</td>\n",
       "      <td>4</td>\n",
       "      <td>75,8,7,44,</td>\n",
       "      <td>0,76,84,92,</td>\n",
       "      <td>149,224,233,240,</td>\n",
       "    </tr>\n",
       "  </tbody>\n",
       "</table>\n",
       "<p>5 rows × 22 columns</p>\n",
       "</div>"
      ],
      "text/plain": [
       "   index  match  mismatch  repmatch  N's  Q gap count  Q gap bases  \\\n",
       "0      1    135         1         0    0            1            5   \n",
       "1      2     46         0         0    0            0            0   \n",
       "2      3    135         1         0    0            1            5   \n",
       "3      4     46         0         0    0            0            0   \n",
       "4      5    133         1         0    0            2            2   \n",
       "\n",
       "   T gap count  T gap bases strand        ...        Q start  Q end  \\\n",
       "0            2            8      +        ...              0    141   \n",
       "1            0            0      +        ...            472    518   \n",
       "2            2            8      -        ...              0    141   \n",
       "3            0            0      -        ...            472    518   \n",
       "4            1            1      +        ...              0    136   \n",
       "\n",
       "      T name  T size T start  T end  block count  blockSizes       qStarts  \\\n",
       "0  Lambda_RC     284     140    284            3   17,73,46,      0,22,95,   \n",
       "1  Lambda_RC     284       4     50            1         46,          472,   \n",
       "2     Lambda     284       0    144            3   51,68,17,  474,525,598,   \n",
       "3     Lambda     284     234    280            1         46,           97,   \n",
       "4  Lambda_RC     284     149    284            4  75,8,7,44,   0,76,84,92,   \n",
       "\n",
       "            tStarts  \n",
       "0      140,164,238,  \n",
       "1                4,  \n",
       "2         0,52,127,  \n",
       "3              234,  \n",
       "4  149,224,233,240,  \n",
       "\n",
       "[5 rows x 22 columns]"
      ]
     },
     "execution_count": 9,
     "metadata": {},
     "output_type": "execute_result"
    }
   ],
   "source": [
    "print(dd.shape)\n",
    "dd.head()"
   ]
  },
  {
   "cell_type": "markdown",
   "metadata": {},
   "source": [
    "Get the ration of each splint"
   ]
  },
  {
   "cell_type": "code",
   "execution_count": 20,
   "metadata": {},
   "outputs": [],
   "source": [
    "from collections import Counter\n",
    "c = Counter(dd['T name'])"
   ]
  },
  {
   "cell_type": "code",
   "execution_count": 23,
   "metadata": {},
   "outputs": [
    {
     "name": "stdout",
     "output_type": "stream",
     "text": [
      "Lambda: 0.4814766834716959\n",
      "Lambda_RC: 0.48105205960567554\n",
      "hairpin_P5: 0.008197399718596727\n",
      "hairpin_P5_RC: 0.008254975836023217\n",
      "hairpin_geneAmp: 0.01037089815144678\n",
      "hairpin_geneAmp_RC: 0.01064798321656177\n",
      "\n"
     ]
    }
   ],
   "source": [
    "print(\"Lambda: \" + str(c['Lambda']/dd.shape[0]) + '\\n' + \n",
    "      \"Lambda_RC: \" + str(c['Lambda_RC']/dd.shape[0]) + '\\n' + \n",
    "      \"hairpin_P5: \" + str(c['hairpin_P5']/dd.shape[0]) + '\\n' + \n",
    "      \"hairpin_P5_RC: \" + str(c['hairpin_P5_RC']/dd.shape[0]) + '\\n' + \n",
    "      \"hairpin_geneAmp: \" + str(c['hairpin_geneAmp']/dd.shape[0]) + '\\n' + \n",
    "      \"hairpin_geneAmp_RC: \" + str(c['hairpin_geneAmp_RC']/dd.shape[0]) + '\\n')"
   ]
  },
  {
   "cell_type": "code",
   "execution_count": null,
   "metadata": {},
   "outputs": [],
   "source": []
  },
  {
   "cell_type": "code",
   "execution_count": null,
   "metadata": {},
   "outputs": [],
   "source": []
  }
 ],
 "metadata": {
  "kernelspec": {
   "display_name": "Python 3",
   "language": "python",
   "name": "python3"
  },
  "language_info": {
   "codemirror_mode": {
    "name": "ipython",
    "version": 3
   },
   "file_extension": ".py",
   "mimetype": "text/x-python",
   "name": "python",
   "nbconvert_exporter": "python",
   "pygments_lexer": "ipython3",
   "version": "3.6.8"
  }
 },
 "nbformat": 4,
 "nbformat_minor": 2
}
