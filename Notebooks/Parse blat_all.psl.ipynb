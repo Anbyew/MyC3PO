{
 "cells": [
  {
   "cell_type": "code",
   "execution_count": 1,
   "metadata": {},
   "outputs": [],
   "source": [
    "import numpy as np\n",
    "import pandas as pd\n",
    "import matplotlib.pyplot as plt"
   ]
  },
  {
   "cell_type": "code",
   "execution_count": 2,
   "metadata": {},
   "outputs": [
    {
     "name": "stderr",
     "output_type": "stream",
     "text": [
      "/anaconda3/lib/python3.6/site-packages/IPython/core/interactiveshell.py:2728: DtypeWarning: Columns (0,1,2,3,4,5,6,7,10,11,12,14,15,16,17) have mixed types. Specify dtype option on import or set low_memory=False.\n",
      "  interactivity=interactivity, compiler=compiler, result=result)\n"
     ]
    }
   ],
   "source": [
    "dd = pd.read_csv('blat_all.psl', sep='\\t', header=0)"
   ]
  },
  {
   "cell_type": "code",
   "execution_count": 3,
   "metadata": {},
   "outputs": [],
   "source": [
    "dd = dd.rename(index=str, columns={'mis- ': 'mismatch', 'rep. ': 'repmatch', 'Q gap':\"Q gap count\", \"Q gap.1\":\"Q gap bases\",\n",
    "                             \"T gap\":\"T gap count\", \"T gap.1\":\"T gap bases\", \"Q        \":\"Q name\", \n",
    "                             \"Q   \":\"Q size\", \"Q    \":\"Q start\", \"Q  \":\"Q end\", \"T        \":\"T name\",\n",
    "                             \"T   \":\"T size\", \"T    \":\"T start\", \"T  \":\"T end\", \"block\":\"block count\",\n",
    "                             \"blockSizes \":\"blockSizes\", ' tStarts':'tStarts'})"
   ]
  },
  {
   "cell_type": "code",
   "execution_count": 4,
   "metadata": {},
   "outputs": [],
   "source": [
    "dd = dd.drop(dd.index[[0]])\n",
    "dd = dd.reset_index()\n",
    "dd[['index','match','mismatch','repmatch',\"N's\",'Q gap count','Q gap bases','T gap count','T gap bases','Q size',\n",
    "    'Q start','Q end','T size','T start','T end','block count']] = dd[['index','match','mismatch','repmatch',\"N's\",'Q gap count','Q gap bases','T gap count','T gap bases','Q size',\n",
    "    'Q start','Q end','T size','T start','T end','block count']].astype(int)"
   ]
  },
  {
   "cell_type": "code",
   "execution_count": 5,
   "metadata": {},
   "outputs": [
    {
     "name": "stdout",
     "output_type": "stream",
     "text": [
      "(296231, 22)\n"
     ]
    },
    {
     "data": {
      "text/html": [
       "<div>\n",
       "<style scoped>\n",
       "    .dataframe tbody tr th:only-of-type {\n",
       "        vertical-align: middle;\n",
       "    }\n",
       "\n",
       "    .dataframe tbody tr th {\n",
       "        vertical-align: top;\n",
       "    }\n",
       "\n",
       "    .dataframe thead th {\n",
       "        text-align: right;\n",
       "    }\n",
       "</style>\n",
       "<table border=\"1\" class=\"dataframe\">\n",
       "  <thead>\n",
       "    <tr style=\"text-align: right;\">\n",
       "      <th></th>\n",
       "      <th>index</th>\n",
       "      <th>match</th>\n",
       "      <th>mismatch</th>\n",
       "      <th>repmatch</th>\n",
       "      <th>N's</th>\n",
       "      <th>Q gap count</th>\n",
       "      <th>Q gap bases</th>\n",
       "      <th>T gap count</th>\n",
       "      <th>T gap bases</th>\n",
       "      <th>strand</th>\n",
       "      <th>...</th>\n",
       "      <th>Q start</th>\n",
       "      <th>Q end</th>\n",
       "      <th>T name</th>\n",
       "      <th>T size</th>\n",
       "      <th>T start</th>\n",
       "      <th>T end</th>\n",
       "      <th>block count</th>\n",
       "      <th>blockSizes</th>\n",
       "      <th>qStarts</th>\n",
       "      <th>tStarts</th>\n",
       "    </tr>\n",
       "  </thead>\n",
       "  <tbody>\n",
       "    <tr>\n",
       "      <th>0</th>\n",
       "      <td>1</td>\n",
       "      <td>262</td>\n",
       "      <td>1</td>\n",
       "      <td>0</td>\n",
       "      <td>0</td>\n",
       "      <td>2</td>\n",
       "      <td>2</td>\n",
       "      <td>6</td>\n",
       "      <td>1295</td>\n",
       "      <td>-</td>\n",
       "      <td>...</td>\n",
       "      <td>16</td>\n",
       "      <td>281</td>\n",
       "      <td>chr2</td>\n",
       "      <td>242193529</td>\n",
       "      <td>25234223</td>\n",
       "      <td>25235781</td>\n",
       "      <td>9</td>\n",
       "      <td>6,59,78,28,18,31,31,5,7,</td>\n",
       "      <td>83,89,148,226,254,272,303,335,341,</td>\n",
       "      <td>25234223,25234234,25234294,25234373,25234402,2...</td>\n",
       "    </tr>\n",
       "    <tr>\n",
       "      <th>1</th>\n",
       "      <td>2</td>\n",
       "      <td>305</td>\n",
       "      <td>0</td>\n",
       "      <td>0</td>\n",
       "      <td>0</td>\n",
       "      <td>1</td>\n",
       "      <td>1</td>\n",
       "      <td>5</td>\n",
       "      <td>1291</td>\n",
       "      <td>-</td>\n",
       "      <td>...</td>\n",
       "      <td>18</td>\n",
       "      <td>324</td>\n",
       "      <td>chr2</td>\n",
       "      <td>242193529</td>\n",
       "      <td>25234185</td>\n",
       "      <td>25235781</td>\n",
       "      <td>7</td>\n",
       "      <td>85,9,17,72,12,38,72,</td>\n",
       "      <td>93,178,188,205,277,289,327,</td>\n",
       "      <td>25234185,25234271,25234280,25234298,25234371,2...</td>\n",
       "    </tr>\n",
       "    <tr>\n",
       "      <th>2</th>\n",
       "      <td>3</td>\n",
       "      <td>111</td>\n",
       "      <td>3</td>\n",
       "      <td>0</td>\n",
       "      <td>0</td>\n",
       "      <td>2</td>\n",
       "      <td>5</td>\n",
       "      <td>2</td>\n",
       "      <td>8</td>\n",
       "      <td>+</td>\n",
       "      <td>...</td>\n",
       "      <td>66</td>\n",
       "      <td>185</td>\n",
       "      <td>chrY</td>\n",
       "      <td>57227415</td>\n",
       "      <td>1350427</td>\n",
       "      <td>1350549</td>\n",
       "      <td>3</td>\n",
       "      <td>15,53,46,</td>\n",
       "      <td>66,84,139,</td>\n",
       "      <td>1350427,1350446,1350503,</td>\n",
       "    </tr>\n",
       "    <tr>\n",
       "      <th>3</th>\n",
       "      <td>4</td>\n",
       "      <td>111</td>\n",
       "      <td>3</td>\n",
       "      <td>0</td>\n",
       "      <td>0</td>\n",
       "      <td>2</td>\n",
       "      <td>5</td>\n",
       "      <td>2</td>\n",
       "      <td>8</td>\n",
       "      <td>+</td>\n",
       "      <td>...</td>\n",
       "      <td>66</td>\n",
       "      <td>185</td>\n",
       "      <td>chrX</td>\n",
       "      <td>156040895</td>\n",
       "      <td>1350427</td>\n",
       "      <td>1350549</td>\n",
       "      <td>3</td>\n",
       "      <td>15,53,46,</td>\n",
       "      <td>66,84,139,</td>\n",
       "      <td>1350427,1350446,1350503,</td>\n",
       "    </tr>\n",
       "    <tr>\n",
       "      <th>4</th>\n",
       "      <td>5</td>\n",
       "      <td>73</td>\n",
       "      <td>3</td>\n",
       "      <td>0</td>\n",
       "      <td>0</td>\n",
       "      <td>2</td>\n",
       "      <td>30</td>\n",
       "      <td>2</td>\n",
       "      <td>44</td>\n",
       "      <td>+</td>\n",
       "      <td>...</td>\n",
       "      <td>66</td>\n",
       "      <td>172</td>\n",
       "      <td>chrX</td>\n",
       "      <td>156040895</td>\n",
       "      <td>52680965</td>\n",
       "      <td>52681085</td>\n",
       "      <td>3</td>\n",
       "      <td>13,30,33,</td>\n",
       "      <td>66,88,139,</td>\n",
       "      <td>52680965,52680999,52681052,</td>\n",
       "    </tr>\n",
       "  </tbody>\n",
       "</table>\n",
       "<p>5 rows × 22 columns</p>\n",
       "</div>"
      ],
      "text/plain": [
       "   index  match  mismatch  repmatch  N's  Q gap count  Q gap bases  \\\n",
       "0      1    262         1         0    0            2            2   \n",
       "1      2    305         0         0    0            1            1   \n",
       "2      3    111         3         0    0            2            5   \n",
       "3      4    111         3         0    0            2            5   \n",
       "4      5     73         3         0    0            2           30   \n",
       "\n",
       "   T gap count  T gap bases strand  \\\n",
       "0            6         1295      -   \n",
       "1            5         1291      -   \n",
       "2            2            8      +   \n",
       "3            2            8      +   \n",
       "4            2           44      +   \n",
       "\n",
       "                         ...                         Q start  Q end  T name  \\\n",
       "0                        ...                              16    281    chr2   \n",
       "1                        ...                              18    324    chr2   \n",
       "2                        ...                              66    185    chrY   \n",
       "3                        ...                              66    185    chrX   \n",
       "4                        ...                              66    172    chrX   \n",
       "\n",
       "      T size   T start     T end  block count                blockSizes  \\\n",
       "0  242193529  25234223  25235781            9  6,59,78,28,18,31,31,5,7,   \n",
       "1  242193529  25234185  25235781            7      85,9,17,72,12,38,72,   \n",
       "2   57227415   1350427   1350549            3                 15,53,46,   \n",
       "3  156040895   1350427   1350549            3                 15,53,46,   \n",
       "4  156040895  52680965  52681085            3                 13,30,33,   \n",
       "\n",
       "                              qStarts  \\\n",
       "0  83,89,148,226,254,272,303,335,341,   \n",
       "1         93,178,188,205,277,289,327,   \n",
       "2                          66,84,139,   \n",
       "3                          66,84,139,   \n",
       "4                          66,88,139,   \n",
       "\n",
       "                                             tStarts  \n",
       "0  25234223,25234234,25234294,25234373,25234402,2...  \n",
       "1  25234185,25234271,25234280,25234298,25234371,2...  \n",
       "2                           1350427,1350446,1350503,  \n",
       "3                           1350427,1350446,1350503,  \n",
       "4                        52680965,52680999,52681052,  \n",
       "\n",
       "[5 rows x 22 columns]"
      ]
     },
     "execution_count": 5,
     "metadata": {},
     "output_type": "execute_result"
    }
   ],
   "source": [
    "print(dd.shape)\n",
    "dd.head()"
   ]
  },
  {
   "cell_type": "code",
   "execution_count": 23,
   "metadata": {},
   "outputs": [],
   "source": [
    "bb = dd[dd['T name'] == 'chr2']\n",
    "bb = bb[['match','mismatch', 'Q gap count','Q gap bases','T gap count','T gap bases', 'Q name','Q size','block count']]"
   ]
  },
  {
   "cell_type": "code",
   "execution_count": 24,
   "metadata": {},
   "outputs": [
    {
     "name": "stdout",
     "output_type": "stream",
     "text": [
      "(29757, 9)\n"
     ]
    },
    {
     "data": {
      "text/html": [
       "<div>\n",
       "<style scoped>\n",
       "    .dataframe tbody tr th:only-of-type {\n",
       "        vertical-align: middle;\n",
       "    }\n",
       "\n",
       "    .dataframe tbody tr th {\n",
       "        vertical-align: top;\n",
       "    }\n",
       "\n",
       "    .dataframe thead th {\n",
       "        text-align: right;\n",
       "    }\n",
       "</style>\n",
       "<table border=\"1\" class=\"dataframe\">\n",
       "  <thead>\n",
       "    <tr style=\"text-align: right;\">\n",
       "      <th></th>\n",
       "      <th>match</th>\n",
       "      <th>mismatch</th>\n",
       "      <th>Q gap count</th>\n",
       "      <th>Q gap bases</th>\n",
       "      <th>T gap count</th>\n",
       "      <th>T gap bases</th>\n",
       "      <th>Q name</th>\n",
       "      <th>Q size</th>\n",
       "      <th>block count</th>\n",
       "    </tr>\n",
       "  </thead>\n",
       "  <tbody>\n",
       "    <tr>\n",
       "      <th>0</th>\n",
       "      <td>262</td>\n",
       "      <td>1</td>\n",
       "      <td>2</td>\n",
       "      <td>2</td>\n",
       "      <td>6</td>\n",
       "      <td>1295</td>\n",
       "      <td>db68828-7ad5-47c2-b2de-edfee3141c16_15.91_1328...</td>\n",
       "      <td>364</td>\n",
       "      <td>9</td>\n",
       "    </tr>\n",
       "    <tr>\n",
       "      <th>1</th>\n",
       "      <td>305</td>\n",
       "      <td>0</td>\n",
       "      <td>1</td>\n",
       "      <td>1</td>\n",
       "      <td>5</td>\n",
       "      <td>1291</td>\n",
       "      <td>03cf611-28ca-4bbd-93a4-3095e832cce0_14.93_1894...</td>\n",
       "      <td>417</td>\n",
       "      <td>7</td>\n",
       "    </tr>\n",
       "    <tr>\n",
       "      <th>17</th>\n",
       "      <td>149</td>\n",
       "      <td>9</td>\n",
       "      <td>3</td>\n",
       "      <td>11</td>\n",
       "      <td>2</td>\n",
       "      <td>14</td>\n",
       "      <td>954efb3-70f9-46ba-88fb-e58b75b21cf0_13.24_1954...</td>\n",
       "      <td>310</td>\n",
       "      <td>4</td>\n",
       "    </tr>\n",
       "    <tr>\n",
       "      <th>18</th>\n",
       "      <td>112</td>\n",
       "      <td>8</td>\n",
       "      <td>1</td>\n",
       "      <td>8</td>\n",
       "      <td>1</td>\n",
       "      <td>10</td>\n",
       "      <td>954efb3-70f9-46ba-88fb-e58b75b21cf0_13.24_1954...</td>\n",
       "      <td>310</td>\n",
       "      <td>2</td>\n",
       "    </tr>\n",
       "    <tr>\n",
       "      <th>19</th>\n",
       "      <td>107</td>\n",
       "      <td>9</td>\n",
       "      <td>1</td>\n",
       "      <td>14</td>\n",
       "      <td>3</td>\n",
       "      <td>18</td>\n",
       "      <td>954efb3-70f9-46ba-88fb-e58b75b21cf0_13.24_1954...</td>\n",
       "      <td>310</td>\n",
       "      <td>4</td>\n",
       "    </tr>\n",
       "  </tbody>\n",
       "</table>\n",
       "</div>"
      ],
      "text/plain": [
       "    match  mismatch  Q gap count  Q gap bases  T gap count  T gap bases  \\\n",
       "0     262         1            2            2            6         1295   \n",
       "1     305         0            1            1            5         1291   \n",
       "17    149         9            3           11            2           14   \n",
       "18    112         8            1            8            1           10   \n",
       "19    107         9            1           14            3           18   \n",
       "\n",
       "                                               Q name  Q size  block count  \n",
       "0   db68828-7ad5-47c2-b2de-edfee3141c16_15.91_1328...     364            9  \n",
       "1   03cf611-28ca-4bbd-93a4-3095e832cce0_14.93_1894...     417            7  \n",
       "17  954efb3-70f9-46ba-88fb-e58b75b21cf0_13.24_1954...     310            4  \n",
       "18  954efb3-70f9-46ba-88fb-e58b75b21cf0_13.24_1954...     310            2  \n",
       "19  954efb3-70f9-46ba-88fb-e58b75b21cf0_13.24_1954...     310            4  "
      ]
     },
     "execution_count": 24,
     "metadata": {},
     "output_type": "execute_result"
    }
   ],
   "source": [
    "print(bb.shape)\n",
    "bb.head()"
   ]
  },
  {
   "cell_type": "code",
   "execution_count": 25,
   "metadata": {},
   "outputs": [],
   "source": [
    "bb['name'], bb['score'],bb['oriLen'], bb['repeats'], bb['subLen'], bb['consLen'] = bb['Q name'].str.split('_', 5).str"
   ]
  },
  {
   "cell_type": "code",
   "execution_count": 26,
   "metadata": {},
   "outputs": [],
   "source": [
    "bb = bb.drop(columns=['Q name'])\n",
    "bb[['oriLen', 'repeats', 'subLen', 'consLen']] = bb[['oriLen', 'repeats', 'subLen', 'consLen']].astype(int)\n",
    "bb[['score']] = bb[['score']].astype(float)"
   ]
  },
  {
   "cell_type": "markdown",
   "metadata": {},
   "source": [
    "Normalize by Q size"
   ]
  },
  {
   "cell_type": "code",
   "execution_count": 27,
   "metadata": {},
   "outputs": [],
   "source": [
    "bbn = bb"
   ]
  },
  {
   "cell_type": "code",
   "execution_count": 28,
   "metadata": {},
   "outputs": [],
   "source": [
    "bbn['match'] = bbn['match']/bbn['Q size']\n",
    "bbn['mismatch'] = bbn['mismatch']/bbn['Q size']\n",
    "bbn['Q gap bases'] = bbn['Q gap bases']/bbn['Q size']"
   ]
  },
  {
   "cell_type": "code",
   "execution_count": 29,
   "metadata": {},
   "outputs": [
    {
     "name": "stdout",
     "output_type": "stream",
     "text": [
      "(29757, 15)\n"
     ]
    },
    {
     "data": {
      "text/html": [
       "<div>\n",
       "<style scoped>\n",
       "    .dataframe tbody tr th:only-of-type {\n",
       "        vertical-align: middle;\n",
       "    }\n",
       "\n",
       "    .dataframe tbody tr th {\n",
       "        vertical-align: top;\n",
       "    }\n",
       "\n",
       "    .dataframe thead th {\n",
       "        text-align: right;\n",
       "    }\n",
       "</style>\n",
       "<table border=\"1\" class=\"dataframe\">\n",
       "  <thead>\n",
       "    <tr style=\"text-align: right;\">\n",
       "      <th></th>\n",
       "      <th>match</th>\n",
       "      <th>mismatch</th>\n",
       "      <th>Q gap count</th>\n",
       "      <th>Q gap bases</th>\n",
       "      <th>T gap count</th>\n",
       "      <th>T gap bases</th>\n",
       "      <th>Q name</th>\n",
       "      <th>Q size</th>\n",
       "      <th>block count</th>\n",
       "      <th>name</th>\n",
       "      <th>score</th>\n",
       "      <th>oriLen</th>\n",
       "      <th>repeats</th>\n",
       "      <th>subLen</th>\n",
       "      <th>consLen</th>\n",
       "    </tr>\n",
       "  </thead>\n",
       "  <tbody>\n",
       "    <tr>\n",
       "      <th>0</th>\n",
       "      <td>0.719780</td>\n",
       "      <td>0.002747</td>\n",
       "      <td>2</td>\n",
       "      <td>0.005495</td>\n",
       "      <td>6</td>\n",
       "      <td>1295</td>\n",
       "      <td>db68828-7ad5-47c2-b2de-edfee3141c16_15.91_1328...</td>\n",
       "      <td>364</td>\n",
       "      <td>9</td>\n",
       "      <td>db68828-7ad5-47c2-b2de-edfee3141c16</td>\n",
       "      <td>15.91</td>\n",
       "      <td>1328</td>\n",
       "      <td>1</td>\n",
       "      <td>662</td>\n",
       "      <td>284</td>\n",
       "    </tr>\n",
       "    <tr>\n",
       "      <th>1</th>\n",
       "      <td>0.731415</td>\n",
       "      <td>0.000000</td>\n",
       "      <td>1</td>\n",
       "      <td>0.002398</td>\n",
       "      <td>5</td>\n",
       "      <td>1291</td>\n",
       "      <td>03cf611-28ca-4bbd-93a4-3095e832cce0_14.93_1894...</td>\n",
       "      <td>417</td>\n",
       "      <td>7</td>\n",
       "      <td>03cf611-28ca-4bbd-93a4-3095e832cce0</td>\n",
       "      <td>14.93</td>\n",
       "      <td>1894</td>\n",
       "      <td>1</td>\n",
       "      <td>733</td>\n",
       "      <td>337</td>\n",
       "    </tr>\n",
       "    <tr>\n",
       "      <th>17</th>\n",
       "      <td>0.480645</td>\n",
       "      <td>0.029032</td>\n",
       "      <td>3</td>\n",
       "      <td>0.035484</td>\n",
       "      <td>2</td>\n",
       "      <td>14</td>\n",
       "      <td>954efb3-70f9-46ba-88fb-e58b75b21cf0_13.24_1954...</td>\n",
       "      <td>310</td>\n",
       "      <td>4</td>\n",
       "      <td>954efb3-70f9-46ba-88fb-e58b75b21cf0</td>\n",
       "      <td>13.24</td>\n",
       "      <td>1954</td>\n",
       "      <td>1</td>\n",
       "      <td>624</td>\n",
       "      <td>230</td>\n",
       "    </tr>\n",
       "    <tr>\n",
       "      <th>18</th>\n",
       "      <td>0.361290</td>\n",
       "      <td>0.025806</td>\n",
       "      <td>1</td>\n",
       "      <td>0.025806</td>\n",
       "      <td>1</td>\n",
       "      <td>10</td>\n",
       "      <td>954efb3-70f9-46ba-88fb-e58b75b21cf0_13.24_1954...</td>\n",
       "      <td>310</td>\n",
       "      <td>2</td>\n",
       "      <td>954efb3-70f9-46ba-88fb-e58b75b21cf0</td>\n",
       "      <td>13.24</td>\n",
       "      <td>1954</td>\n",
       "      <td>1</td>\n",
       "      <td>624</td>\n",
       "      <td>230</td>\n",
       "    </tr>\n",
       "    <tr>\n",
       "      <th>19</th>\n",
       "      <td>0.345161</td>\n",
       "      <td>0.029032</td>\n",
       "      <td>1</td>\n",
       "      <td>0.045161</td>\n",
       "      <td>3</td>\n",
       "      <td>18</td>\n",
       "      <td>954efb3-70f9-46ba-88fb-e58b75b21cf0_13.24_1954...</td>\n",
       "      <td>310</td>\n",
       "      <td>4</td>\n",
       "      <td>954efb3-70f9-46ba-88fb-e58b75b21cf0</td>\n",
       "      <td>13.24</td>\n",
       "      <td>1954</td>\n",
       "      <td>1</td>\n",
       "      <td>624</td>\n",
       "      <td>230</td>\n",
       "    </tr>\n",
       "  </tbody>\n",
       "</table>\n",
       "</div>"
      ],
      "text/plain": [
       "       match  mismatch  Q gap count  Q gap bases  T gap count  T gap bases  \\\n",
       "0   0.719780  0.002747            2     0.005495            6         1295   \n",
       "1   0.731415  0.000000            1     0.002398            5         1291   \n",
       "17  0.480645  0.029032            3     0.035484            2           14   \n",
       "18  0.361290  0.025806            1     0.025806            1           10   \n",
       "19  0.345161  0.029032            1     0.045161            3           18   \n",
       "\n",
       "                                               Q name  Q size  block count  \\\n",
       "0   db68828-7ad5-47c2-b2de-edfee3141c16_15.91_1328...     364            9   \n",
       "1   03cf611-28ca-4bbd-93a4-3095e832cce0_14.93_1894...     417            7   \n",
       "17  954efb3-70f9-46ba-88fb-e58b75b21cf0_13.24_1954...     310            4   \n",
       "18  954efb3-70f9-46ba-88fb-e58b75b21cf0_13.24_1954...     310            2   \n",
       "19  954efb3-70f9-46ba-88fb-e58b75b21cf0_13.24_1954...     310            4   \n",
       "\n",
       "                                   name  score  oriLen  repeats  subLen  \\\n",
       "0   db68828-7ad5-47c2-b2de-edfee3141c16  15.91    1328        1     662   \n",
       "1   03cf611-28ca-4bbd-93a4-3095e832cce0  14.93    1894        1     733   \n",
       "17  954efb3-70f9-46ba-88fb-e58b75b21cf0  13.24    1954        1     624   \n",
       "18  954efb3-70f9-46ba-88fb-e58b75b21cf0  13.24    1954        1     624   \n",
       "19  954efb3-70f9-46ba-88fb-e58b75b21cf0  13.24    1954        1     624   \n",
       "\n",
       "    consLen  \n",
       "0       284  \n",
       "1       337  \n",
       "17      230  \n",
       "18      230  \n",
       "19      230  "
      ]
     },
     "execution_count": 29,
     "metadata": {},
     "output_type": "execute_result"
    }
   ],
   "source": [
    "print(bbn.shape)\n",
    "bbn.head()"
   ]
  },
  {
   "cell_type": "code",
   "execution_count": 30,
   "metadata": {},
   "outputs": [
    {
     "data": {
      "image/png": "[encoded data removed]",
      "text/plain": [
       "<Figure size 432x288 with 1 Axes>"
      ]
     },
     "metadata": {},
     "output_type": "display_data"
    }
   ],
   "source": [
    "plt.title('Match & Repeats')\n",
    "plt.plot(bbn['repeats'], bbn['match'], 'o')\n",
    "plt.show()"
   ]
  },
  {
   "cell_type": "code",
   "execution_count": 31,
   "metadata": {},
   "outputs": [
    {
     "data": {
      "image/png": "[encoded data removed]",
      "text/plain": [
       "<Figure size 432x288 with 1 Axes>"
      ]
     },
     "metadata": {},
     "output_type": "display_data"
    }
   ],
   "source": [
    "plt.title('Mismatch & Repeats')\n",
    "plt.plot(bbn['repeats'], bbn['mismatch'], 'o')\n",
    "plt.show()"
   ]
  },
  {
   "cell_type": "code",
   "execution_count": 32,
   "metadata": {},
   "outputs": [
    {
     "data": {
      "image/png": "[encoded data removed]",
      "text/plain": [
       "<Figure size 432x288 with 1 Axes>"
      ]
     },
     "metadata": {},
     "output_type": "display_data"
    }
   ],
   "source": [
    "plt.title('Q gap bases & Repeats')\n",
    "plt.plot(bbn['repeats'], bbn['Q gap bases'], 'o')\n",
    "plt.show()"
   ]
  },
  {
   "cell_type": "code",
   "execution_count": 33,
   "metadata": {},
   "outputs": [
    {
     "data": {
      "image/png": "[encoded data removed]",
      "text/plain": [
       "<Figure size 432x288 with 1 Axes>"
      ]
     },
     "metadata": {},
     "output_type": "display_data"
    }
   ],
   "source": [
    "plt.title('Score & Repeats')\n",
    "plt.plot(bbn['repeats'], bbn['score'], 'o')\n",
    "plt.show()"
   ]
  },
  {
   "cell_type": "code",
   "execution_count": null,
   "metadata": {},
   "outputs": [],
   "source": []
  },
  {
   "cell_type": "code",
   "execution_count": null,
   "metadata": {},
   "outputs": [],
   "source": []
  }
 ],
 "metadata": {
  "kernelspec": {
   "display_name": "Python 3",
   "language": "python",
   "name": "python3"
  },
  "language_info": {
   "codemirror_mode": {
    "name": "ipython",
    "version": 3
   },
   "file_extension": ".py",
   "mimetype": "text/x-python",
   "name": "python",
   "nbconvert_exporter": "python",
   "pygments_lexer": "ipython3",
   "version": "3.6.8"
  }
 },
 "nbformat": 4,
 "nbformat_minor": 2
}
